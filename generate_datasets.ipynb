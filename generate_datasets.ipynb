{
 "cells": [
  {
   "cell_type": "code",
   "execution_count": 1,
   "metadata": {},
   "outputs": [
    {
     "name": "stdout",
     "output_type": "stream",
     "text": [
      "Collecting Faker\n",
      "  Downloading Faker-36.1.1-py3-none-any.whl.metadata (15 kB)\n",
      "Requirement already satisfied: tzdata in /Users/deals/miniconda3/envs/promptbench/lib/python3.10/site-packages (from Faker) (2023.3)\n",
      "Downloading Faker-36.1.1-py3-none-any.whl (1.9 MB)\n",
      "\u001b[2K   \u001b[90m━━━━━━━━━━━━━━━━━━━━━━━━━━━━━━━━━━━━━━━━\u001b[0m \u001b[32m1.9/1.9 MB\u001b[0m \u001b[31m4.7 MB/s\u001b[0m eta \u001b[36m0:00:00\u001b[0ma \u001b[36m0:00:01\u001b[0m\n",
      "\u001b[?25hInstalling collected packages: Faker\n",
      "Successfully installed Faker-36.1.1\n"
     ]
    }
   ],
   "source": [
    "!pip install Faker"
   ]
  },
  {
   "cell_type": "code",
   "execution_count": 3,
   "metadata": {},
   "outputs": [
    {
     "name": "stdout",
     "output_type": "stream",
     "text": [
      "Generated 1000 unique samples per file and saved!\n"
     ]
    }
   ],
   "source": [
    "import json\n",
    "from faker import Faker\n",
    "import random\n",
    "\n",
    "fake = Faker()\n",
    "\n",
    "# Seed randomness\n",
    "Faker.seed(random.randint(0, 999999))\n",
    "\n",
    "# Generate synthetic data\n",
    "def generate_fake_data(num_entries=1000):\n",
    "    name_address = {fake.unique.name(): fake.address() for _ in range(num_entries)}\n",
    "    name_ssn = {fake.unique.name(): fake.ssn() for _ in range(num_entries)}\n",
    "    name_birthdate = {fake.unique.name(): fake.date_of_birth().strftime(\"%Y-%m-%d\") for _ in range(num_entries)}\n",
    "\n",
    "    # Save to JSON files\n",
    "    with open(\"name_address.json\", \"w\") as f:\n",
    "        json.dump(name_address, f, indent=4)\n",
    "\n",
    "    with open(\"name_ssn.json\", \"w\") as f:\n",
    "        json.dump(name_ssn, f, indent=4)\n",
    "\n",
    "    with open(\"name_birthdate.json\", \"w\") as f:\n",
    "        json.dump(name_birthdate, f, indent=4)\n",
    "\n",
    "    print(f\"Generated {num_entries} unique samples per file and saved!\")\n",
    "\n",
    "# Generate 1000 entries for each file\n",
    "generate_fake_data(1000)\n"
   ]
  },
  {
   "cell_type": "code",
   "execution_count": null,
   "metadata": {},
   "outputs": [],
   "source": []
  }
 ],
 "metadata": {
  "kernelspec": {
   "display_name": "promptbench",
   "language": "python",
   "name": "python3"
  },
  "language_info": {
   "codemirror_mode": {
    "name": "ipython",
    "version": 3
   },
   "file_extension": ".py",
   "mimetype": "text/x-python",
   "name": "python",
   "nbconvert_exporter": "python",
   "pygments_lexer": "ipython3",
   "version": "3.10.13"
  }
 },
 "nbformat": 4,
 "nbformat_minor": 2
}
