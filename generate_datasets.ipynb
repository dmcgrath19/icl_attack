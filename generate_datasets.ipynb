{
 "cells": [
  {
   "cell_type": "code",
   "execution_count": 1,
   "metadata": {},
   "outputs": [
    {
     "name": "stdout",
     "output_type": "stream",
     "text": [
      "Collecting Faker\n",
      "  Downloading Faker-36.1.1-py3-none-any.whl.metadata (15 kB)\n",
      "Requirement already satisfied: tzdata in /Users/deals/miniconda3/envs/promptbench/lib/python3.10/site-packages (from Faker) (2023.3)\n",
      "Downloading Faker-36.1.1-py3-none-any.whl (1.9 MB)\n",
      "\u001b[2K   \u001b[90m━━━━━━━━━━━━━━━━━━━━━━━━━━━━━━━━━━━━━━━━\u001b[0m \u001b[32m1.9/1.9 MB\u001b[0m \u001b[31m4.7 MB/s\u001b[0m eta \u001b[36m0:00:00\u001b[0ma \u001b[36m0:00:01\u001b[0m\n",
      "\u001b[?25hInstalling collected packages: Faker\n",
      "Successfully installed Faker-36.1.1\n"
     ]
    }
   ],
   "source": [
    "!pip install Faker"
   ]
  },
  {
   "cell_type": "code",
   "execution_count": 3,
   "metadata": {},
   "outputs": [
    {
     "name": "stdout",
     "output_type": "stream",
     "text": [
      "Generated 1000 unique samples per file and saved!\n"
     ]
    }
   ],
   "source": [
    "import json\n",
    "from faker import Faker\n",
    "import random\n",
    "\n",
    "fake = Faker()\n",
    "\n",
    "# Seed randomness\n",
    "Faker.seed(random.randint(0, 999999))\n",
    "\n",
    "# Generate synthetic data\n",
    "def generate_fake_data(num_entries=1000):\n",
    "    name_address = {fake.unique.name(): fake.address() for _ in range(num_entries)}\n",
    "    name_ssn = {fake.unique.name(): fake.ssn() for _ in range(num_entries)}\n",
    "    name_birthdate = {fake.unique.name(): fake.date_of_birth().strftime(\"%Y-%m-%d\") for _ in range(num_entries)}\n",
    "\n",
    "    # Save to JSON files\n",
    "    with open(\"name_address.json\", \"w\") as f:\n",
    "        json.dump(name_address, f, indent=4)\n",
    "\n",
    "    with open(\"name_ssn.json\", \"w\") as f:\n",
    "        json.dump(name_ssn, f, indent=4)\n",
    "\n",
    "    with open(\"name_birthdate.json\", \"w\") as f:\n",
    "        json.dump(name_birthdate, f, indent=4)\n",
    "\n",
    "    print(f\"Generated {num_entries} unique samples per file and saved!\")\n",
    "\n",
    "# Generate 1000 entries for each file\n",
    "generate_fake_data(1000)\n"
   ]
  },
  {
   "cell_type": "code",
   "execution_count": 1,
   "metadata": {},
   "outputs": [
    {
     "name": "stdout",
     "output_type": "stream",
     "text": [
      "Generated 1000 unique name-city pairs and saved to 'name_city.json'.\n"
     ]
    }
   ],
   "source": [
    "import json\n",
    "from faker import Faker\n",
    "import random\n",
    "\n",
    "# Initialize Faker instance\n",
    "fake = Faker()\n",
    "\n",
    "# Seed randomness for reproducibility\n",
    "Faker.seed(random.randint(0, 999999))\n",
    "\n",
    "# Function to generate synthetic name-city data\n",
    "def generate_name_city_data(num_entries=1000):\n",
    "    name_city = {fake.unique.name(): fake.city() for _ in range(num_entries)}\n",
    "    \n",
    "    # Save to JSON file\n",
    "    with open(\"name_city.json\", \"w\") as f:\n",
    "        json.dump(name_city, f, indent=4)\n",
    "\n",
    "    print(f\"Generated {num_entries} unique name-city pairs and saved to 'name_city.json'.\")\n",
    "\n",
    "# Generate 1000 entries of name-city pairs\n",
    "generate_name_city_data(1000)\n"
   ]
  },
  {
   "cell_type": "code",
   "execution_count": 2,
   "metadata": {},
   "outputs": [
    {
     "name": "stdout",
     "output_type": "stream",
     "text": [
      "Generated 1000 unique name-country pairs and saved to 'name_country_random.json'.\n"
     ]
    }
   ],
   "source": [
    "import json\n",
    "from faker import Faker\n",
    "import random\n",
    "\n",
    "# Initialize Faker instance\n",
    "fake = Faker()\n",
    "\n",
    "# Seed randomness for reproducibility\n",
    "Faker.seed(random.randint(0, 999999))\n",
    "\n",
    "# Function to generate synthetic name-country data\n",
    "def generate_name_country_data(num_entries=1000):\n",
    "    name_country = {fake.unique.name(): fake.country() for _ in range(num_entries)}\n",
    "    \n",
    "    # Save to JSON file\n",
    "    with open(\"name_country_random.json\", \"w\") as f:\n",
    "        json.dump(name_country, f, indent=4)\n",
    "\n",
    "    print(f\"Generated {num_entries} unique name-country pairs and saved to 'name_country_random.json'.\")\n",
    "\n",
    "# Generate 1000 entries of name-country pairs\n",
    "generate_name_country_data(1000)\n"
   ]
  },
  {
   "cell_type": "code",
   "execution_count": 3,
   "metadata": {},
   "outputs": [
    {
     "ename": "AttributeError",
     "evalue": "'Generator' object has no attribute 'city_name'",
     "output_type": "error",
     "traceback": [
      "\u001b[0;31m---------------------------------------------------------------------------\u001b[0m",
      "\u001b[0;31mAttributeError\u001b[0m                            Traceback (most recent call last)",
      "Cell \u001b[0;32mIn[3], line 22\u001b[0m\n\u001b[1;32m     19\u001b[0m     \u001b[38;5;28mprint\u001b[39m(\u001b[38;5;124mf\u001b[39m\u001b[38;5;124m\"\u001b[39m\u001b[38;5;124mGenerated \u001b[39m\u001b[38;5;132;01m{\u001b[39;00mnum_entries\u001b[38;5;132;01m}\u001b[39;00m\u001b[38;5;124m unique name-city pairs and saved to \u001b[39m\u001b[38;5;124m'\u001b[39m\u001b[38;5;124mname_city_random.json\u001b[39m\u001b[38;5;124m'\u001b[39m\u001b[38;5;124m.\u001b[39m\u001b[38;5;124m\"\u001b[39m)\n\u001b[1;32m     21\u001b[0m \u001b[38;5;66;03m# Generate 1000 entries of name-city pairs (random city names)\u001b[39;00m\n\u001b[0;32m---> 22\u001b[0m \u001b[43mgenerate_name_city_data\u001b[49m\u001b[43m(\u001b[49m\u001b[38;5;241;43m1000\u001b[39;49m\u001b[43m)\u001b[49m\n",
      "Cell \u001b[0;32mIn[3], line 13\u001b[0m, in \u001b[0;36mgenerate_name_city_data\u001b[0;34m(num_entries)\u001b[0m\n\u001b[1;32m     12\u001b[0m \u001b[38;5;28;01mdef\u001b[39;00m \u001b[38;5;21mgenerate_name_city_data\u001b[39m(num_entries\u001b[38;5;241m=\u001b[39m\u001b[38;5;241m1000\u001b[39m):\n\u001b[0;32m---> 13\u001b[0m     name_city \u001b[38;5;241m=\u001b[39m {fake\u001b[38;5;241m.\u001b[39munique\u001b[38;5;241m.\u001b[39mname(): fake\u001b[38;5;241m.\u001b[39mcity_name() \u001b[38;5;28;01mfor\u001b[39;00m _ \u001b[38;5;129;01min\u001b[39;00m \u001b[38;5;28mrange\u001b[39m(num_entries)}\n\u001b[1;32m     15\u001b[0m     \u001b[38;5;66;03m# Save to JSON file\u001b[39;00m\n\u001b[1;32m     16\u001b[0m     \u001b[38;5;28;01mwith\u001b[39;00m \u001b[38;5;28mopen\u001b[39m(\u001b[38;5;124m\"\u001b[39m\u001b[38;5;124mname_city_random.json\u001b[39m\u001b[38;5;124m\"\u001b[39m, \u001b[38;5;124m\"\u001b[39m\u001b[38;5;124mw\u001b[39m\u001b[38;5;124m\"\u001b[39m) \u001b[38;5;28;01mas\u001b[39;00m f:\n",
      "Cell \u001b[0;32mIn[3], line 13\u001b[0m, in \u001b[0;36m<dictcomp>\u001b[0;34m(.0)\u001b[0m\n\u001b[1;32m     12\u001b[0m \u001b[38;5;28;01mdef\u001b[39;00m \u001b[38;5;21mgenerate_name_city_data\u001b[39m(num_entries\u001b[38;5;241m=\u001b[39m\u001b[38;5;241m1000\u001b[39m):\n\u001b[0;32m---> 13\u001b[0m     name_city \u001b[38;5;241m=\u001b[39m {fake\u001b[38;5;241m.\u001b[39munique\u001b[38;5;241m.\u001b[39mname(): \u001b[43mfake\u001b[49m\u001b[38;5;241;43m.\u001b[39;49m\u001b[43mcity_name\u001b[49m() \u001b[38;5;28;01mfor\u001b[39;00m _ \u001b[38;5;129;01min\u001b[39;00m \u001b[38;5;28mrange\u001b[39m(num_entries)}\n\u001b[1;32m     15\u001b[0m     \u001b[38;5;66;03m# Save to JSON file\u001b[39;00m\n\u001b[1;32m     16\u001b[0m     \u001b[38;5;28;01mwith\u001b[39;00m \u001b[38;5;28mopen\u001b[39m(\u001b[38;5;124m\"\u001b[39m\u001b[38;5;124mname_city_random.json\u001b[39m\u001b[38;5;124m\"\u001b[39m, \u001b[38;5;124m\"\u001b[39m\u001b[38;5;124mw\u001b[39m\u001b[38;5;124m\"\u001b[39m) \u001b[38;5;28;01mas\u001b[39;00m f:\n",
      "File \u001b[0;32m~/miniconda3/envs/promptbench/lib/python3.10/site-packages/faker/proxy.py:130\u001b[0m, in \u001b[0;36mFaker.__getattr__\u001b[0;34m(self, attr)\u001b[0m\n\u001b[1;32m    123\u001b[0m \u001b[38;5;250m\u001b[39m\u001b[38;5;124;03m\"\"\"\u001b[39;00m\n\u001b[1;32m    124\u001b[0m \u001b[38;5;124;03mHandles cache access and proxying behavior\u001b[39;00m\n\u001b[1;32m    125\u001b[0m \n\u001b[1;32m    126\u001b[0m \u001b[38;5;124;03m:param attr: attribute name\u001b[39;00m\n\u001b[1;32m    127\u001b[0m \u001b[38;5;124;03m:return: the appropriate attribute\u001b[39;00m\n\u001b[1;32m    128\u001b[0m \u001b[38;5;124;03m\"\"\"\u001b[39;00m\n\u001b[1;32m    129\u001b[0m \u001b[38;5;28;01mif\u001b[39;00m \u001b[38;5;28mlen\u001b[39m(\u001b[38;5;28mself\u001b[39m\u001b[38;5;241m.\u001b[39m_factories) \u001b[38;5;241m==\u001b[39m \u001b[38;5;241m1\u001b[39m:\n\u001b[0;32m--> 130\u001b[0m     \u001b[38;5;28;01mreturn\u001b[39;00m \u001b[38;5;28;43mgetattr\u001b[39;49m\u001b[43m(\u001b[49m\u001b[38;5;28;43mself\u001b[39;49m\u001b[38;5;241;43m.\u001b[39;49m\u001b[43m_factories\u001b[49m\u001b[43m[\u001b[49m\u001b[38;5;241;43m0\u001b[39;49m\u001b[43m]\u001b[49m\u001b[43m,\u001b[49m\u001b[43m \u001b[49m\u001b[43mattr\u001b[49m\u001b[43m)\u001b[49m\n\u001b[1;32m    131\u001b[0m \u001b[38;5;28;01melif\u001b[39;00m attr \u001b[38;5;129;01min\u001b[39;00m \u001b[38;5;28mself\u001b[39m\u001b[38;5;241m.\u001b[39mgenerator_attrs:\n\u001b[1;32m    132\u001b[0m     msg \u001b[38;5;241m=\u001b[39m \u001b[38;5;124m\"\u001b[39m\u001b[38;5;124mProxying calls to `\u001b[39m\u001b[38;5;132;01m%s\u001b[39;00m\u001b[38;5;124m` is not implemented in multiple locale mode.\u001b[39m\u001b[38;5;124m\"\u001b[39m \u001b[38;5;241m%\u001b[39m attr\n",
      "\u001b[0;31mAttributeError\u001b[0m: 'Generator' object has no attribute 'city_name'"
     ]
    }
   ],
   "source": [
    "import json\n",
    "from faker import Faker\n",
    "import random\n",
    "\n",
    "# Initialize Faker instance\n",
    "fake = Faker()\n",
    "\n",
    "# Seed randomness for reproducibility\n",
    "Faker.seed(random.randint(0, 999999))\n",
    "\n",
    "# Function to generate synthetic name-city data\n",
    "def generate_name_city_data(num_entries=1000):\n",
    "    name_city = {fake.unique.name(): fake.city_name() for _ in range(num_entries)}\n",
    "    \n",
    "    # Save to JSON file\n",
    "    with open(\"name_city_random.json\", \"w\") as f:\n",
    "        json.dump(name_city, f, indent=4)\n",
    "\n",
    "    print(f\"Generated {num_entries} unique name-city pairs and saved to 'name_city_random.json'.\")\n",
    "\n",
    "# Generate 1000 entries of name-city pairs (random city names)\n",
    "generate_name_city_data(1000)\n"
   ]
  },
  {
   "cell_type": "code",
   "execution_count": 4,
   "metadata": {},
   "outputs": [
    {
     "name": "stdout",
     "output_type": "stream",
     "text": [
      "The merged data has been saved to 'output_mapped.json'.\n"
     ]
    }
   ],
   "source": [
    "import json\n",
    "import random\n",
    "\n",
    "def combine_files(data1, data2):\n",
    "    # Extract all capitals from data2 (regions-to-capitals)\n",
    "    capitals = list(data2.values())\n",
    "    \n",
    "    # Create a result dictionary to store person to capital mapping\n",
    "    result = {}\n",
    "    \n",
    "    # If there are more people than capitals, shuffle capitals and assign randomly\n",
    "    random.shuffle(capitals)  # Shuffle capitals to randomize the assignment\n",
    "    \n",
    "    # Loop over each person in data1 and assign them a capital (with repetitions if necessary)\n",
    "    capital_count = len(capitals)\n",
    "    for i, person in enumerate(data1):\n",
    "        # Assign capital by cycling through the capitals if there are more people than capitals\n",
    "        random_capital = capitals[i % capital_count]  # Wrap around if more people than capitals\n",
    "        result[person] = random_capital\n",
    "    \n",
    "    return result\n",
    "\n",
    "# Reading files\n",
    "with open('name_city.json', 'r') as file1:\n",
    "    data1 = json.load(file1)  # Loads the people-to-places\n",
    "\n",
    "with open('country_capital.json', 'r') as file2:\n",
    "    data2 = json.load(file2)  # Loads the regions-to-capitals\n",
    "\n",
    "# Combine the files and get the result\n",
    "merged = combine_files(data1, data2)\n",
    "\n",
    "# Write the merged result to a new JSON file\n",
    "with open('output_mapped.json', 'w') as output_file:\n",
    "    json.dump(merged, output_file, indent=2)\n",
    "\n",
    "print(\"The merged data has been saved to 'output_mapped.json'.\")\n"
   ]
  },
  {
   "cell_type": "code",
   "execution_count": null,
   "metadata": {},
   "outputs": [],
   "source": []
  }
 ],
 "metadata": {
  "kernelspec": {
   "display_name": "promptbench",
   "language": "python",
   "name": "python3"
  },
  "language_info": {
   "codemirror_mode": {
    "name": "ipython",
    "version": 3
   },
   "file_extension": ".py",
   "mimetype": "text/x-python",
   "name": "python",
   "nbconvert_exporter": "python",
   "pygments_lexer": "ipython3",
   "version": "3.10.13"
  }
 },
 "nbformat": 4,
 "nbformat_minor": 2
}
